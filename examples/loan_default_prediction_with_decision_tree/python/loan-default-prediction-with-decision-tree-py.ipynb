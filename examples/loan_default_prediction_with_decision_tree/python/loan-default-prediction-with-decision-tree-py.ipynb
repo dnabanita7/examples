{
 "cells": [
  {
   "cell_type": "markdown",
   "id": "326f3e1c-0291-4952-be2f-230b0f181fd1",
   "metadata": {},
   "source": [
    "### Using Decision Tree for Loan Default Prediction\n",
    "\n",
    "### What is our objective ?\n",
    "* To reliably predict wether a person's loan payment will be defaulted based on features such as Salary, Account Balance etc.\n",
    "\n",
    "### Getting to know the dataset!\n",
    "LoanDefault dataset contains historic data for loan defaultees, along with their associated financial background, it has the following features.\n",
    "* Employed - Employment status of the borrower, (1 - Employed | 0 - Unemployed).\n",
    "* Bank Balance - Account Balance of the borrower at the time of repayment / default.\n",
    "* Annual Salary - Per year income of the borrower at the time of repayment / default.\n",
    "* Default - Target variable, indicated if the borrower repayed the loaned amount within the stipulated time period, (1 - Defaulted | 0 - Re-Paid).\n",
    "\n",
    "### Approach\n",
    "* This is an trivial example for dataset containing class imbalance, considering most of the people will be repaying their loan without default.\n",
    "* So, we have to explore our data to check for imbalance, handle it using various techniques.\n",
    "* Explore the correlation between various features in the dataset\n",
    "* Split the preprocessed dataset into train and test sets respectively.\n",
    "* Train a DecisionTree (Classifier) using mlpack.\n",
    "* Finally we'll predict on the test set and using various evaluation metrics such as Accuracy, F1-Score, ROC AUC to judge the performance of our model on unseen data.\n",
    "\n",
    "#### NOTE: In this example we'll be implementing 4 parts i.e modelling on imbalanced, oversampled, SMOTE & undersampled data respectively."
   ]
  },
  {
   "cell_type": "code",
   "execution_count": 2,
   "id": "dcfc835b-f39b-4f97-899d-e2f1201654e8",
   "metadata": {},
   "outputs": [],
   "source": [
    "# Import necessary libraries.\n",
    "import numpy as np\n",
    "import pandas as pd\n",
    "import matplotlib.pyplot as plt\n",
    "import seaborn as sns\n",
    "import mlpack\n",
    "from sklearn.metrics import *"
   ]
  },
  {
   "cell_type": "code",
   "execution_count": 3,
   "id": "d9748bb5-b71b-4c00-8eec-3f3d64a227c2",
   "metadata": {},
   "outputs": [],
   "source": [
    "%matplotlib inline\n",
    "sns.set(color_codes=True)"
   ]
  },
  {
   "cell_type": "markdown",
   "id": "c5357788-af59-4fc3-a0a5-fdb4fd152ecf",
   "metadata": {},
   "source": [
    "### Load the data"
   ]
  },
  {
   "cell_type": "code",
   "execution_count": 4,
   "id": "2fd29ba5-6472-4ab7-8c49-76e4b5d296aa",
   "metadata": {},
   "outputs": [],
   "source": [
    "# Load loan default prediction (LoanDefault) dataset.\n",
    "loanData = pd.read_csv(\"http://datasets.mlpack.org/LoanDefault.csv\")"
   ]
  },
  {
   "cell_type": "markdown",
   "id": "4283f328-f366-46fd-b151-a11f002f26fd",
   "metadata": {},
   "source": [
    "### Explore the data"
   ]
  },
  {
   "cell_type": "code",
   "execution_count": 5,
   "id": "aabfa3ae-18b1-4888-a38a-ac2a8540d65a",
   "metadata": {},
   "outputs": [
    {
     "data": {
      "text/html": [
       "<div>\n",
       "<style scoped>\n",
       "    .dataframe tbody tr th:only-of-type {\n",
       "        vertical-align: middle;\n",
       "    }\n",
       "\n",
       "    .dataframe tbody tr th {\n",
       "        vertical-align: top;\n",
       "    }\n",
       "\n",
       "    .dataframe thead th {\n",
       "        text-align: right;\n",
       "    }\n",
       "</style>\n",
       "<table border=\"1\" class=\"dataframe\">\n",
       "  <thead>\n",
       "    <tr style=\"text-align: right;\">\n",
       "      <th></th>\n",
       "      <th>Employed</th>\n",
       "      <th>Bank Balance</th>\n",
       "      <th>Annual Salary</th>\n",
       "      <th>Defaulted?</th>\n",
       "    </tr>\n",
       "  </thead>\n",
       "  <tbody>\n",
       "    <tr>\n",
       "      <th>0</th>\n",
       "      <td>1</td>\n",
       "      <td>8754.36</td>\n",
       "      <td>532339.56</td>\n",
       "      <td>0</td>\n",
       "    </tr>\n",
       "    <tr>\n",
       "      <th>1</th>\n",
       "      <td>0</td>\n",
       "      <td>9806.16</td>\n",
       "      <td>145273.56</td>\n",
       "      <td>0</td>\n",
       "    </tr>\n",
       "    <tr>\n",
       "      <th>2</th>\n",
       "      <td>1</td>\n",
       "      <td>12882.60</td>\n",
       "      <td>381205.68</td>\n",
       "      <td>0</td>\n",
       "    </tr>\n",
       "    <tr>\n",
       "      <th>3</th>\n",
       "      <td>1</td>\n",
       "      <td>6351.00</td>\n",
       "      <td>428453.88</td>\n",
       "      <td>0</td>\n",
       "    </tr>\n",
       "    <tr>\n",
       "      <th>4</th>\n",
       "      <td>1</td>\n",
       "      <td>9427.92</td>\n",
       "      <td>461562.00</td>\n",
       "      <td>0</td>\n",
       "    </tr>\n",
       "  </tbody>\n",
       "</table>\n",
       "</div>"
      ],
      "text/plain": [
       "   Employed  Bank Balance  Annual Salary  Defaulted?\n",
       "0         1       8754.36      532339.56           0\n",
       "1         0       9806.16      145273.56           0\n",
       "2         1      12882.60      381205.68           0\n",
       "3         1       6351.00      428453.88           0\n",
       "4         1       9427.92      461562.00           0"
      ]
     },
     "execution_count": 5,
     "metadata": {},
     "output_type": "execute_result"
    }
   ],
   "source": [
    "# Examine first 5 samples from the dataset.\n",
    "loanData.head()"
   ]
  },
  {
   "cell_type": "code",
   "execution_count": 6,
   "id": "0e912a79-fee7-4203-b339-c7230b5990ca",
   "metadata": {},
   "outputs": [
    {
     "name": "stdout",
     "output_type": "stream",
     "text": [
      "# of rows: 10000\n",
      "# of cols: 4\n"
     ]
    }
   ],
   "source": [
    "# Examine the shape of the dataframe.\n",
    "print(f\"# of rows: {loanData.shape[0]}\")\n",
    "print(f\"# of cols: {loanData.shape[1]}\")"
   ]
  },
  {
   "cell_type": "code",
   "execution_count": 7,
   "id": "e0247992-edbd-403d-bbf8-7c11ab1ff7e5",
   "metadata": {},
   "outputs": [
    {
     "name": "stdout",
     "output_type": "stream",
     "text": [
      "<class 'pandas.core.frame.DataFrame'>\n",
      "RangeIndex: 10000 entries, 0 to 9999\n",
      "Data columns (total 4 columns):\n",
      " #   Column         Non-Null Count  Dtype  \n",
      "---  ------         --------------  -----  \n",
      " 0   Employed       10000 non-null  int64  \n",
      " 1   Bank Balance   10000 non-null  float64\n",
      " 2   Annual Salary  10000 non-null  float64\n",
      " 3   Defaulted?     10000 non-null  int64  \n",
      "dtypes: float64(2), int64(2)\n",
      "memory usage: 312.6 KB\n"
     ]
    }
   ],
   "source": [
    "# Concise summary if all the features in the dataframe.\n",
    "loanData.info()"
   ]
  },
  {
   "cell_type": "markdown",
   "id": "44636982-23ce-4af5-9296-a828c171fb5c",
   "metadata": {},
   "source": [
    "From the above summary statistic we can infer there is no missing or categorical variables to handle in our dataset."
   ]
  },
  {
   "cell_type": "code",
   "execution_count": 7,
   "id": "0aa5d430-9cfc-4dec-adba-86473c6af7eb",
   "metadata": {},
   "outputs": [
    {
     "data": {
      "text/plain": [
       "Employed         0.0\n",
       "Bank Balance     0.0\n",
       "Annual Salary    0.0\n",
       "Defaulted?       0.0\n",
       "dtype: float64"
      ]
     },
     "execution_count": 7,
     "metadata": {},
     "output_type": "execute_result"
    }
   ],
   "source": [
    "## Check the percentage of missing values.\n",
    "(loanData.isnull().sum() / len(loanData)) * 100"
   ]
  },
  {
   "cell_type": "markdown",
   "id": "2def1cb2-209b-4647-81f1-890421d96a27",
   "metadata": {},
   "source": [
    "### Part 1 - Modelling using Imbalanced dataset."
   ]
  },
  {
   "cell_type": "markdown",
   "id": "d9a6ca9d-f91e-413a-a89e-f8199ea772a6",
   "metadata": {},
   "source": [
    "### Visualize data distribution"
   ]
  },
  {
   "cell_type": "code",
   "execution_count": 8,
   "id": "9056e1e1-6456-4e32-ab6b-4a98bfeb42ac",
   "metadata": {},
   "outputs": [
    {
     "data": {
      "image/png": "[encoded data removed]",
      "text/plain": [
       "<Figure size 432x288 with 1 Axes>"
      ]
     },
     "metadata": {},
     "output_type": "display_data"
    }
   ],
   "source": [
    "# Visualize the distibution of target classes.\n",
    "sns.countplot(x=\"Defaulted?\", data=loanData)\n",
    "plt.show()"
   ]
  },
  {
   "cell_type": "markdown",
   "id": "05ea8ce2-ecf1-4a15-bbee-103d87249c07",
   "metadata": {},
   "source": [
    "From the above visualization, we can observe that the presence of \"0\" and \"1\", so there is a huge class imbalance. For the first part we would not be handling the class imbalance. In order to see how our model performs on the raw imbalanced data"
   ]
  },
  {
   "cell_type": "code",
   "execution_count": 9,
   "id": "2dafb417-04bb-4310-a8aa-0ee14344cbb0",
   "metadata": {},
   "outputs": [
    {
     "data": {
      "image/png": "[encoded data removed]",
      "text/plain": [
       "<Figure size 432x288 with 1 Axes>"
      ]
     },
     "metadata": {},
     "output_type": "display_data"
    }
   ],
   "source": [
    "# Visualize the distibution of target classes with respect to Employment.\n",
    "sns.countplot(x=\"Defaulted?\", hue=\"Employed\", data=loanData)\n",
    "plt.show()"
   ]
  },
  {
   "cell_type": "markdown",
   "id": "b16cfdf9-5f80-4356-a887-1dbfaedd48af",
   "metadata": {},
   "source": [
    "### Visualize Correlation"
   ]
  },
  {
   "cell_type": "code",
   "execution_count": 13,
   "id": "2544dde6-ea3f-47e1-80f6-cf0fdb40e3ae",
   "metadata": {},
   "outputs": [],
   "source": [
    "def PlotHeatMap(data, figWidth=8, figHeight=8):\n",
    "    \"\"\"\n",
    "    Generates an heatmap to visualize the correlation between various features in the dataset.\n",
    "    \n",
    "        Parameter:\n",
    "            data (DataFrame): Pandas dataframe to be ploted.\n",
    "            figWidth (int): Width of the figure.\n",
    "            figHeight (int): Height of the figure.\n",
    "            \n",
    "        Returns:\n",
    "            None\n",
    "    \"\"\"\n",
    "    plt.figure(figsize=(figWidth,figHeight))\n",
    "    sns.heatmap(data.corr(), square=True, \n",
    "                annot=True, fmt=\".2f\")\n",
    "    plt.show()"
   ]
  },
  {
   "cell_type": "code",
   "execution_count": 11,
   "id": "3b79b660-3554-4166-9874-9abdaea9dc6b",
   "metadata": {},
   "outputs": [
    {
     "data": {
      "image/png": "[encoded data removed]",
      "text/plain": [
       "<Figure size 576x576 with 2 Axes>"
      ]
     },
     "metadata": {},
     "output_type": "display_data"
    }
   ],
   "source": [
    "# Plot the correlation matrix as heatmap.\n",
    "PlotHeatMap(loanData)"
   ]
  },
  {
   "cell_type": "code",
   "execution_count": 17,
   "id": "29c77373-3adc-436a-95e4-bd35592b0090",
   "metadata": {},
   "outputs": [],
   "source": [
    "def FeatureTargetSplit(data):\n",
    "    \"\"\"\n",
    "    Returns the Features of interest and targets.\n",
    "        \n",
    "        Parameter:\n",
    "            data (DataFrame): Pandas dataframe which is to be splited into features and targets.\n",
    "        \n",
    "        Returns:\n",
    "            features (DataFrame): Pandas dataframe consisting of the features.\n",
    "            target (DataFrame): Pandas dataframe containing the target.\n",
    "    \"\"\"\n",
    "    featureNames = [\"Employed\", \"Bank Balance\", \"Annual Salary\"]\n",
    "    features=data[featureNames]\n",
    "    target=data[\"Defaulted?\"]\n",
    "    return features, target"
   ]
  },
  {
   "cell_type": "code",
   "execution_count": 13,
   "id": "69ebe0fe-e507-4b38-a4bb-d30abdce1a27",
   "metadata": {},
   "outputs": [],
   "source": [
    "features, target = FeatureTargetSplit(loanData)"
   ]
  },
  {
   "cell_type": "markdown",
   "id": "c4f63561-6159-43c2-b879-98aadd9aadca",
   "metadata": {},
   "source": [
    "### Train Test Split\n",
    "The dataset has to be split into training and test set. Here the dataset has 10000 observations and the test ratio is taken as 20% of the total observations. This indicates that the test set should have 20% * 10000 = 2000 observations and training set should have 8000 observations respectively."
   ]
  },
  {
   "cell_type": "code",
   "execution_count": 16,
   "id": "98c6bb0b-cde0-43dc-9b75-56ab29d240a9",
   "metadata": {},
   "outputs": [],
   "source": [
    "def StandardScaler(data):\n",
    "    \"\"\"\n",
    "    Standardize features by removing the mean and scaling to unit variance.\n",
    "    \n",
    "        Parameter:\n",
    "            data (Dataframe): Pandas dataframe whose features must be scaled.\n",
    "        \n",
    "        Returns:\n",
    "            data (Dataframe): Pandas dataframe with scaled features.\n",
    "    \"\"\"\n",
    "    for col in range(data.shape[1]):\n",
    "        data[:, col] = (data[:, col] - data[:,col].mean()) / (data[:,col].std())\n",
    "    return data\n",
    "\n",
    "def TrainTestSplit(features, target, test_ratio=0.2, standardize=False):\n",
    "    \"\"\"\n",
    "    Splits the features & target into respective training and test set based on the test ratio.\n",
    "    \n",
    "        Parameter:\n",
    "            features (DataFrame): Pandas dataframe containing the features.\n",
    "            target (DataFrame): Pandas dataframe containing the targets.\n",
    "            test_ratio (double): Percentage of dataset to be hold out for test set. default 20%.\n",
    "            standardize (bool): if True, features are scaled, default False.\n",
    "            \n",
    "        Returns:\n",
    "            Xtrain (DataFrame): Pandas dataframe containing training features.\n",
    "            Xtest (DataFrame): Pandas dataframe containing test features.\n",
    "            ytrain (DataFrame): Pandas dataframe containing training targets.\n",
    "            ytest (DataFrame): Pandas dataframe containing test targets.\n",
    "    \"\"\"\n",
    "    train_len = len(features)\n",
    "    train_idxs = list(range(train_len))\n",
    "    np.random.shuffle(train_idxs)\n",
    "    split = int(np.floor(test_ratio * train_len))\n",
    "    Xtest = features.iloc[train_idxs[:split], :].values\n",
    "    Xtrain = features.iloc[train_idxs[split:], :].values\n",
    "    ytest = target.iloc[train_idxs[:split]].values\n",
    "    ytrain = target.iloc[train_idxs[split:]].values\n",
    "    if standardize:\n",
    "        # Normalize Features.\n",
    "        Xtrain = StandardScaler(Xtrain)\n",
    "        Xtest = StandardScaler(Xtest)\n",
    "    return Xtrain, Xtest, ytrain, ytest\n",
    "\n",
    "def plot_rocAUC(fper, tper):\n",
    "    \"\"\"\n",
    "    Generates an ROC AUC curve for the give True Positive Rate and False Positive Rate.\n",
    "    \n",
    "            Parameter:\n",
    "                fper (np.ndarray): Contains the false positive rate.\n",
    "                tper (np.ndarray): Contains the true positive rate.\n",
    "            \n",
    "            Returns:\n",
    "                None\n",
    "    \"\"\"\n",
    "    plt.plot(fper, tper, color=\"orange\", label=\"ROC\")\n",
    "    plt.plot([0, 1], [0, 1], color=\"darkblue\", linestyle=\"--\")\n",
    "    plt.xlabel(\"False Positive Rate\")\n",
    "    plt.ylabel(\"True Positive Rate\")\n",
    "    plt.title(\"ROC Curve\")\n",
    "    plt.legend()\n",
    "    plt.show()"
   ]
  },
  {
   "cell_type": "code",
   "execution_count": 36,
   "id": "e03c81da-8091-4824-91cf-beef3c6ff87c",
   "metadata": {},
   "outputs": [],
   "source": [
    "Xtrain, Xtest, ytrain, ytest = TrainTestSplit(features, target, standardize=True)"
   ]
  },
  {
   "cell_type": "markdown",
   "id": "53f2ce81-1842-412c-a0a7-0c0368874b44",
   "metadata": {},
   "source": [
    "### Training Decision Tree model\n",
    "Decision trees start with a basic question, From there you can ask a series of questions to determine an answer. These questions make up the decision nodes in the tree, acting as a means to split the data. Each question helps an individual to arrive at a final decision, which would be denoted by the leaf node. Observations that fit the criteria will follow the “Yes” branch and those that don’t will follow the alternate path.  Decision trees seek to find the best split to subset the data. To create the model we'll be using `decision_tree()` API from mlpack."
   ]
  },
  {
   "cell_type": "code",
   "execution_count": 37,
   "id": "33ae03e4-01ad-4a36-baa9-b733c4999d1b",
   "metadata": {},
   "outputs": [],
   "source": [
    "# Create and train Decision Tree model.\n",
    "output = mlpack.decision_tree(training=Xtrain, labels=ytrain, print_training_accuracy=True)"
   ]
  },
  {
   "cell_type": "code",
   "execution_count": 38,
   "id": "235be570-9c4b-477f-92e8-01e1f280130e",
   "metadata": {},
   "outputs": [],
   "source": [
    "rf = output[\"output_model\"]"
   ]
  },
  {
   "cell_type": "markdown",
   "id": "01fa0819-5a86-494a-b284-24e1fd4f8407",
   "metadata": {},
   "source": [
    "### Making Predictions on Test set"
   ]
  },
  {
   "cell_type": "code",
   "execution_count": 39,
   "id": "f90093a7-730b-4643-a731-0539c9fcf37e",
   "metadata": {},
   "outputs": [],
   "source": [
    "# Predict the values for test data using previously trained model as input.\n",
    "predictions = mlpack.decision_tree(input_model=rf, test=Xtest)"
   ]
  },
  {
   "cell_type": "code",
   "execution_count": 40,
   "id": "3f03a66a-a98f-4437-8566-76f8a3a25ba6",
   "metadata": {},
   "outputs": [],
   "source": [
    "yPreds = predictions[\"predictions\"].reshape(-1, 1).squeeze()"
   ]
  },
  {
   "cell_type": "markdown",
   "id": "14b8f433-7d35-4b7f-8c02-276aef82ae5c",
   "metadata": {},
   "source": [
    "### Evaluation metrics\n",
    "\n",
    "* True Positive - The actual value was true & the model predicted true.\n",
    "* False Positive - The actual value was false & the model predicted true, Type I error.\n",
    "* True Negative - The actual value was false & the model predicted false.\n",
    "* False Negative - The actual value was true & the model predicted false, Type II error.\n",
    "\n",
    "`Accuracy`: is a metric that generally describes how the model performs across all classes. It is useful when all classes are of equal importance. It is calculated as the ratio between the number of correct predictions to the total number of predictions.\n",
    "\n",
    "$$Accuracy = \\frac{True_{positive} + True_{negative}}{True_{positive} + True_{negative} + False_{positive} + False_{negative}}$$\n",
    "\n",
    "`Precision`: is calculated as the ratio between the number of positive samples correctly classified to the total number of samples classified as Positive. The precision measures the model's accuracy in classifying a sample as positive.\n",
    "\n",
    "$$Precision = \\frac{True_{positive}}{True_{positive} + False_{positive}}$$\n",
    "\n",
    "`Recall`: is calulated as the ratio between the number of positive samples correctly classified as Positive to the total number of Positive samples. The recall measures the model's ability to detect Positive samples. The higher the recall, the more positive samples detected.\n",
    "\n",
    "$$Recall = \\frac{True_{positive}}{True_{positive} + False_{negative}}$$\n",
    "\n",
    "* The decision of whether to use precision or recall depends on the type of problem begin solved.\n",
    "* If the goal is to detect all positive samples then use recall.\n",
    "* Use precision if the problem is sensitive to classifying a sample as Positive in general.\n",
    "\n",
    "* ROC graph has the True Positive rate on the y axis and the False Positive rate on the x axis.\n",
    "* ROC Area under the curve in the graph is the primary metric to determine if the classifier is doing well, the higher the value the higher the model performance."
   ]
  },
  {
   "cell_type": "code",
   "execution_count": 42,
   "id": "51be0d73-2cc8-4a91-90fb-60547be44d86",
   "metadata": {},
   "outputs": [],
   "source": [
    "def modelEval(ytest, yPreds):\n",
    "    print(f\"Accuracy: {accuracy_score(ytest, yPreds)}\")\n",
    "    print(f\"ROC AUC: {roc_auc_score(ytest, yPreds)}\")\n",
    "    print(f\"Cohen's Kappa: {cohen_kappa_score(ytest, yPreds)}\")\n",
    "    print(classification_report(ytest,yPreds))\n",
    "    fper, tper, thresh = roc_curve(ytest, predictions[\"probabilities\"][:, 1])\n",
    "    plot_rocAUC(fper, tper)"
   ]
  },
  {
   "cell_type": "code",
   "execution_count": 44,
   "id": "0f88f661-7f68-450d-bca0-d1b327b59e81",
   "metadata": {},
   "outputs": [
    {
     "name": "stdout",
     "output_type": "stream",
     "text": [
      "Accuracy: 0.9765\n",
      "ROC AUC: 0.7146459602516728\n",
      "Cohen's Kappa: 0.5232395366294049\n",
      "              precision    recall  f1-score   support\n",
      "\n",
      "           0       0.98      0.99      0.99      1938\n",
      "           1       0.69      0.44      0.53        62\n",
      "\n",
      "    accuracy                           0.98      2000\n",
      "   macro avg       0.84      0.71      0.76      2000\n",
      "weighted avg       0.97      0.98      0.97      2000\n",
      "\n"
     ]
    },
    {
     "data": {
      "image/png": "[encoded data removed]",
      "text/plain": [
       "<Figure size 432x288 with 1 Axes>"
      ]
     },
     "metadata": {},
     "output_type": "display_data"
    }
   ],
   "source": [
    "modelEval(ytest, yPreds)"
   ]
  },
  {
   "cell_type": "markdown",
   "id": "fbf2de9e-e1e9-4329-90b8-c0a57e14c9dc",
   "metadata": {},
   "source": [
    "From the above classification report, we can infer that our model trained on imbalanced data performs well on negative class but not the same for positive class."
   ]
  },
  {
   "cell_type": "markdown",
   "id": "bfde2ce7-a25c-4ecf-a0d8-885f5c6cb1d3",
   "metadata": {},
   "source": [
    "### Part 2 - Modelling using Random Oversampling\n",
    "For this part we would be handling the class imbalance. In order to see how our model performs on the randomly oversampled data. We will be using `Resample()` method to oversample the minority class i.e \"1, signifying Defaulted\""
   ]
  },
  {
   "cell_type": "code",
   "execution_count": 9,
   "id": "296b6ec5-296a-4ac9-a9e2-18656a543d82",
   "metadata": {},
   "outputs": [],
   "source": [
    "def Resample(data, replace, n_samples, random_state = 123):\n",
    "    np.random.seed(random_state)\n",
    "    indices = data.index\n",
    "    random_sampled_indices = np.random.choice(indices,\n",
    "                                              size=n_samples,\n",
    "                                              replace=replace)\n",
    "    return data.loc[random_sampled_indices]"
   ]
  },
  {
   "cell_type": "markdown",
   "id": "64201559-fbaa-41a4-b557-3c4aa1969399",
   "metadata": {},
   "source": [
    "### Oversample the data"
   ]
  },
  {
   "cell_type": "code",
   "execution_count": 48,
   "id": "0a648955-9bde-4de2-87b6-db895956bea3",
   "metadata": {},
   "outputs": [],
   "source": [
    "# Oversample the minority class.\n",
    "negClass = loanData[loanData[\"Defaulted?\"] == 0]\n",
    "posClass = loanData[loanData[\"Defaulted?\"] == 1]\n",
    "posOverSampled = Resample(posClass, replace=True, n_samples=len(negClass))\n",
    "overSampled = pd.concat([negClass, posOverSampled])"
   ]
  },
  {
   "cell_type": "code",
   "execution_count": 49,
   "id": "0ad7a1e1-290f-43b6-a5dc-14dbc504eb4e",
   "metadata": {},
   "outputs": [
    {
     "data": {
      "image/png": "[encoded data removed]",
      "text/plain": [
       "<Figure size 432x288 with 1 Axes>"
      ]
     },
     "metadata": {},
     "output_type": "display_data"
    }
   ],
   "source": [
    "# Visualize the distibution of target classes.\n",
    "sns.countplot(x=\"Defaulted?\", data=overSampled)\n",
    "plt.show()"
   ]
  },
  {
   "cell_type": "markdown",
   "id": "a37b2a3d-c865-40b8-b680-82cca7f1cad9",
   "metadata": {},
   "source": [
    "From the above plot we can see that after resampling the minority class (Yes) is oversampled to be equal to the majority class (No). This solves our imbalanced data issue for this part."
   ]
  },
  {
   "cell_type": "code",
   "execution_count": 50,
   "id": "afc576ad-2824-49d3-a8b0-b3b3f0e9d382",
   "metadata": {},
   "outputs": [
    {
     "data": {
      "image/png": "[encoded data removed]",
      "text/plain": [
       "<Figure size 576x576 with 2 Axes>"
      ]
     },
     "metadata": {},
     "output_type": "display_data"
    }
   ],
   "source": [
    "# Plot the correlation matrix as heatmap.\n",
    "PlotHeatMap(overSampled)"
   ]
  },
  {
   "cell_type": "code",
   "execution_count": 51,
   "id": "0432b43c-6ad1-4581-8281-ef1bd5580e2b",
   "metadata": {},
   "outputs": [],
   "source": [
    "features, target = FeatureTargetSplit(overSampled)"
   ]
  },
  {
   "cell_type": "markdown",
   "id": "6ba7acbb-ce53-4045-8a75-802b230e17bf",
   "metadata": {},
   "source": [
    "### Train Test Split\n",
    "The dataset has to be split into training and test set. Here the dataset has 19334 observations and the test ratio is taken as 20% of the total observations. This indicates that the test set should have 20% * 19334 = 3866 observations and training set should have 15468 observations respectively."
   ]
  },
  {
   "cell_type": "code",
   "execution_count": 59,
   "id": "40f1394e-1ab0-4b6b-9034-1b90436c8f4c",
   "metadata": {},
   "outputs": [],
   "source": [
    "Xtrain, Xtest, ytrain, ytest = TrainTestSplit(features, target, standardize=True)"
   ]
  },
  {
   "cell_type": "markdown",
   "id": "6b0dcc92-5647-4d2d-95f0-bcf3f50673e1",
   "metadata": {},
   "source": [
    "### Training Decision Tree model\n",
    "We will use `decision_tree()` API from mlpack to train the model on oversampled data."
   ]
  },
  {
   "cell_type": "code",
   "execution_count": 53,
   "id": "3ebd50d6-174c-46ca-bf02-a8cc4216e890",
   "metadata": {},
   "outputs": [],
   "source": [
    "# Create and train Decision Tree model.\n",
    "output = mlpack.decision_tree(training=Xtrain, labels=ytrain, print_training_accuracy=True)"
   ]
  },
  {
   "cell_type": "code",
   "execution_count": 54,
   "id": "a1c5a9e8-3e1d-4105-be37-11a30a788911",
   "metadata": {},
   "outputs": [],
   "source": [
    "rf = output[\"output_model\"]"
   ]
  },
  {
   "cell_type": "markdown",
   "id": "8174f623-d2f6-43e4-9e40-b62ef37b0910",
   "metadata": {},
   "source": [
    "### Making Predictions on Test set"
   ]
  },
  {
   "cell_type": "code",
   "execution_count": 55,
   "id": "95d7d8e2-2967-44b0-a1e5-0ba9aa1e00f3",
   "metadata": {},
   "outputs": [],
   "source": [
    "# Predict the values for test data using previously trained model as input.\n",
    "predictions = mlpack.decision_tree(input_model=rf, test=Xtest)"
   ]
  },
  {
   "cell_type": "code",
   "execution_count": 56,
   "id": "e3479984-5a8e-45bb-8faa-ad5313218ee7",
   "metadata": {},
   "outputs": [],
   "source": [
    "yPreds = predictions[\"predictions\"].reshape(-1, 1).squeeze()"
   ]
  },
  {
   "cell_type": "markdown",
   "id": "33c3b6a9-5f5d-4796-9868-913deaa9dce6",
   "metadata": {},
   "source": [
    "### Model Evaluation"
   ]
  },
  {
   "cell_type": "code",
   "execution_count": 57,
   "id": "20d05222-ab5b-45d2-bbcf-55c7ba5778c8",
   "metadata": {},
   "outputs": [
    {
     "name": "stdout",
     "output_type": "stream",
     "text": [
      "Accuracy: 0.8763579927573719\n",
      "ROC AUC: 0.8768037031326292\n",
      "Cohen's Kappa: 0.7528943465235481\n",
      "              precision    recall  f1-score   support\n",
      "\n",
      "           0       0.85      0.91      0.88      1904\n",
      "           1       0.90      0.85      0.87      1962\n",
      "\n",
      "    accuracy                           0.88      3866\n",
      "   macro avg       0.88      0.88      0.88      3866\n",
      "weighted avg       0.88      0.88      0.88      3866\n",
      "\n"
     ]
    },
    {
     "data": {
      "image/png": "[encoded data removed]",
      "text/plain": [
       "<Figure size 432x288 with 1 Axes>"
      ]
     },
     "metadata": {},
     "output_type": "display_data"
    }
   ],
   "source": [
    "modelEval(ytest, yPreds)"
   ]
  },
  {
   "cell_type": "markdown",
   "id": "4f1e48a1-021b-4ff2-ba2c-d04f016bc28f",
   "metadata": {},
   "source": [
    "From the above classification report, we can infer that our model trained on oversampled data performs well on both the classes, This proves the fact that imbalanced data has affected the model trained in part one. Also from the ROC AUC Curve, we can infer the True Positive Rate is around 85%, which is a good significance that our model performs well on unseen data."
   ]
  },
  {
   "cell_type": "markdown",
   "id": "dc9e3557-496f-483d-95a9-007cad2fec52",
   "metadata": {},
   "source": [
    "### Part 3 - Modelling using Synthetic Minority Oversampling Technique\n",
    "For this part we would be handling the class imbalance. In order to see how our model performs on the oversampled data using SMOTE. We will be using `SMOTE` API from imblearn to oversample the minority class i.e \"1, signifying Defaulted\""
   ]
  },
  {
   "cell_type": "code",
   "execution_count": 62,
   "id": "3be908ea-1ab1-44ce-adb7-aaac47375096",
   "metadata": {},
   "outputs": [],
   "source": [
    "smoteData = loanData.copy()"
   ]
  },
  {
   "cell_type": "code",
   "execution_count": 63,
   "id": "7631b67d-e130-456c-8bf5-7c9d90260a5f",
   "metadata": {},
   "outputs": [],
   "source": [
    "featureNames = [\"Employed\", \"Bank Balance\", \"Annual Salary\", \"Defaulted?\"]\n",
    "features = loanData[featureNames]"
   ]
  },
  {
   "cell_type": "code",
   "execution_count": 64,
   "id": "01a5eeae-e619-4992-82a1-822b7507e4da",
   "metadata": {},
   "outputs": [],
   "source": [
    "from imblearn.over_sampling import SMOTE"
   ]
  },
  {
   "cell_type": "code",
   "execution_count": 65,
   "id": "de610ce8-2f8f-4dd9-92f1-70ad4a9c637f",
   "metadata": {},
   "outputs": [],
   "source": [
    "os = SMOTE()\n",
    "features, targets = os.fit_resample(features.iloc[:, :-1], features.iloc[:,-1])"
   ]
  },
  {
   "cell_type": "markdown",
   "id": "f7df7b76-e0b9-4678-8ade-8e76e1961fc1",
   "metadata": {},
   "source": [
    "### Train Test Split\n",
    "The dataset has to be split into training and test set. The test ratio is taken as 20% of the total observations."
   ]
  },
  {
   "cell_type": "code",
   "execution_count": 66,
   "id": "feeef0d1-d32b-41b1-9b48-7270da821952",
   "metadata": {},
   "outputs": [],
   "source": [
    "Xtrain, Xtest, ytrain, ytest = TrainTestSplit(features, targets, standardize=True)"
   ]
  },
  {
   "cell_type": "markdown",
   "id": "d4bf1d7a-d985-42d5-ae7f-bcc37080f398",
   "metadata": {},
   "source": [
    "### Training Decision Tree model\n",
    "We will use `decision_tree()` API from mlpack to train the model on SMOTE data."
   ]
  },
  {
   "cell_type": "code",
   "execution_count": 67,
   "id": "ab6c2d7f-3232-4246-a803-c8c800a3e72d",
   "metadata": {},
   "outputs": [],
   "source": [
    "# Create and train Decision Tree model.\n",
    "output = mlpack.decision_tree(training=Xtrain, labels=ytrain, print_training_accuracy=True)"
   ]
  },
  {
   "cell_type": "code",
   "execution_count": 68,
   "id": "507a0eaf-d0d1-4c3a-97c9-c9e395b47c3a",
   "metadata": {},
   "outputs": [],
   "source": [
    "rf = output[\"output_model\"]"
   ]
  },
  {
   "cell_type": "code",
   "execution_count": 69,
   "id": "f23dd01e-bb08-4a19-a5ef-4cfc0cdcc9d7",
   "metadata": {},
   "outputs": [],
   "source": [
    "# Predict the values for test data using previously trained model as input.\n",
    "predictions = mlpack.decision_tree(input_model=rf, test=Xtest)"
   ]
  },
  {
   "cell_type": "code",
   "execution_count": 70,
   "id": "121fab7f-59b0-459e-ba5e-15498f02beee",
   "metadata": {},
   "outputs": [],
   "source": [
    "yPreds = predictions[\"predictions\"].reshape(-1, 1).squeeze()"
   ]
  },
  {
   "cell_type": "markdown",
   "id": "7b169726-63ff-44eb-980a-92a817925a4e",
   "metadata": {},
   "source": [
    "### Model Evaluation"
   ]
  },
  {
   "cell_type": "code",
   "execution_count": 71,
   "id": "46b73cec-5c75-4eec-a165-c766fca602a3",
   "metadata": {},
   "outputs": [
    {
     "name": "stdout",
     "output_type": "stream",
     "text": [
      "Accuracy: 0.8913605794102432\n",
      "ROC AUC: 0.8914924756325264\n",
      "Cohen's Kappa: 0.7827620309580027\n",
      "              precision    recall  f1-score   support\n",
      "\n",
      "           0       0.90      0.88      0.89      1952\n",
      "           1       0.88      0.90      0.89      1914\n",
      "\n",
      "    accuracy                           0.89      3866\n",
      "   macro avg       0.89      0.89      0.89      3866\n",
      "weighted avg       0.89      0.89      0.89      3866\n",
      "\n"
     ]
    },
    {
     "data": {
      "image/png": "[encoded data removed]",
      "text/plain": [
       "<Figure size 432x288 with 1 Axes>"
      ]
     },
     "metadata": {},
     "output_type": "display_data"
    }
   ],
   "source": [
    "modelEval(ytest, yPreds)"
   ]
  },
  {
   "cell_type": "markdown",
   "id": "f7e58df1-399b-40ac-b5ca-1169c2e19a41",
   "metadata": {},
   "source": [
    "From the above classification report, we can infer that our model trained on SMOTE data performs well on both the classes, There is some difference when compared to randomly oversampled data due to variation in the samples generated by SMOTE. Also from the ROC AUC Curve, we can infer the True Positive Rate is around 80%, which is a quantifies that our model performs well on unseen data."
   ]
  },
  {
   "cell_type": "markdown",
   "id": "8beecbb4-9dcd-4a2b-9f77-a1efafa51ff9",
   "metadata": {},
   "source": [
    "### Part 4 - Modelling using Random Undersampling\n",
    "For this part we would be handling the class imbalance by undersampling the majority class, to see how well our model trains and performs on randomly undersampled data."
   ]
  },
  {
   "cell_type": "markdown",
   "id": "efc9a6c5-5a56-411d-b40d-74036cfb4160",
   "metadata": {},
   "source": [
    "Since the size of the data set is quite small, undersampling of majority class would not make much sense here. But still we are going forward with this part to get a sense of how our model performs on less amount of data and it's impact on the learning."
   ]
  },
  {
   "cell_type": "code",
   "execution_count": 10,
   "id": "1c7b0281-a3fe-4532-97ad-3848dafc9965",
   "metadata": {},
   "outputs": [],
   "source": [
    "# Undersample the majority class.\n",
    "negClass = loanData[loanData[\"Defaulted?\"] == 0]\n",
    "posClass = loanData[loanData[\"Defaulted?\"] == 1]\n",
    "negUnderSampled = Resample(negClass, replace=True, n_samples=len(posClass))\n",
    "underSampled = pd.concat([negUnderSampled, posClass])"
   ]
  },
  {
   "cell_type": "code",
   "execution_count": 11,
   "id": "6b60204a-1223-481c-96e2-e3a9f5776abf",
   "metadata": {},
   "outputs": [
    {
     "data": {
      "image/png": "[encoded data removed]",
      "text/plain": [
       "<Figure size 432x288 with 1 Axes>"
      ]
     },
     "metadata": {},
     "output_type": "display_data"
    }
   ],
   "source": [
    "# Visualize the distibution of target classes.\n",
    "sns.countplot(x=\"Defaulted?\", data=underSampled)\n",
    "plt.show()"
   ]
  },
  {
   "cell_type": "markdown",
   "id": "c609638b-2310-4787-9882-849d0464fdfb",
   "metadata": {},
   "source": [
    "From the above plot we can see that after resampling the majority class (No) is undersampled to be equal to the majority class (Yes). This solves our imbalanced data issue for this part."
   ]
  },
  {
   "cell_type": "code",
   "execution_count": 14,
   "id": "ffe3487a-e430-4c05-a537-a66e8e675e3c",
   "metadata": {},
   "outputs": [
    {
     "data": {
      "image/png": "[encoded data removed]",
      "text/plain": [
       "<Figure size 576x576 with 2 Axes>"
      ]
     },
     "metadata": {},
     "output_type": "display_data"
    }
   ],
   "source": [
    "# Plot the correlation matrix as heatmap.\n",
    "PlotHeatMap(underSampled)"
   ]
  },
  {
   "cell_type": "code",
   "execution_count": 18,
   "id": "17dbd144-dee4-4b4b-9edc-5cdc71a072c5",
   "metadata": {},
   "outputs": [],
   "source": [
    "features, target = FeatureTargetSplit(underSampled)"
   ]
  },
  {
   "cell_type": "markdown",
   "id": "4f37d27c-b0cf-4531-b8f5-b3784f1b2acc",
   "metadata": {},
   "source": [
    "### Train Test Split\n",
    "The dataset has to be split into training and test set. Here the dataset has 666 observations and the test ratio is taken as 20% of the total observations. This indicates that the test set should have 20% * 666 = 133 observations and training set should have 533 observations respectively."
   ]
  },
  {
   "cell_type": "code",
   "execution_count": 77,
   "id": "599bba0e-d627-4219-bed2-52310c921d1a",
   "metadata": {},
   "outputs": [],
   "source": [
    "Xtrain, Xtest, ytrain, ytest = TrainTestSplit(features, target, standardize=True)"
   ]
  },
  {
   "cell_type": "markdown",
   "id": "9482fb8e-fb40-468b-b712-037c9925cd41",
   "metadata": {},
   "source": [
    "### Training Decision Tree model\n",
    "We will use `decision_tree()` API from mlpack to train the model on random undersampled data."
   ]
  },
  {
   "cell_type": "code",
   "execution_count": 78,
   "id": "9c26bf8a-595a-4671-8dd1-404760063993",
   "metadata": {},
   "outputs": [],
   "source": [
    "# Create and train Random Forest model with 100 trees.\n",
    "output = mlpack.decision_tree(training=Xtrain, labels=ytrain, print_training_accuracy=True)"
   ]
  },
  {
   "cell_type": "code",
   "execution_count": 79,
   "id": "aa6d52b6-f1a8-49ee-a14e-453615ef5bb3",
   "metadata": {},
   "outputs": [],
   "source": [
    "rf = output[\"output_model\"]"
   ]
  },
  {
   "cell_type": "markdown",
   "id": "e8a95c28-5a44-44ac-ab17-f32dbc75d776",
   "metadata": {},
   "source": [
    "### Making Predictions on Test set"
   ]
  },
  {
   "cell_type": "code",
   "execution_count": 80,
   "id": "0a06ea68-1c89-4d6c-87e5-fdaae1df8f1f",
   "metadata": {},
   "outputs": [],
   "source": [
    "# Predict the values for test data using previously trained model as input.\n",
    "predictions = mlpack.decision_tree(input_model=rf, test=Xtest)"
   ]
  },
  {
   "cell_type": "code",
   "execution_count": 81,
   "id": "9c69e91f-7642-4546-a062-9df6973333ff",
   "metadata": {},
   "outputs": [],
   "source": [
    "yPreds = predictions[\"predictions\"].reshape(-1, 1).squeeze()"
   ]
  },
  {
   "cell_type": "markdown",
   "id": "7214477a-03a2-4bef-92e6-8e0855808e98",
   "metadata": {},
   "source": [
    "### Model Evaluation"
   ]
  },
  {
   "cell_type": "code",
   "execution_count": 82,
   "id": "64698ba3-a458-4987-bf44-dd037928bb01",
   "metadata": {},
   "outputs": [
    {
     "name": "stdout",
     "output_type": "stream",
     "text": [
      "Accuracy: 0.8872180451127819\n",
      "ROC AUC: 0.8902771467514766\n",
      "Cohen's Kappa: 0.7750084583286343\n",
      "              precision    recall  f1-score   support\n",
      "\n",
      "           0       0.94      0.85      0.89        71\n",
      "           1       0.84      0.94      0.89        62\n",
      "\n",
      "    accuracy                           0.89       133\n",
      "   macro avg       0.89      0.89      0.89       133\n",
      "weighted avg       0.89      0.89      0.89       133\n",
      "\n"
     ]
    },
    {
     "data": {
      "image/png": "[encoded data removed]",
      "text/plain": [
       "<Figure size 432x288 with 1 Axes>"
      ]
     },
     "metadata": {},
     "output_type": "display_data"
    }
   ],
   "source": [
    "modelEval(ytest, yPreds)"
   ]
  },
  {
   "cell_type": "markdown",
   "id": "0e5b58a3-b4d6-4c2f-888b-9c8b40e1a579",
   "metadata": {},
   "source": [
    "From the above classification report, we can infer that our model trained on undersampled data performs well on both the classes compared to imbalanced model in Part 1. Also from the ROC AUC Curve, we can infer the True Positive Rate is around 80% although there is a small flatline, but still performs better than imbalanced model."
   ]
  },
  {
   "cell_type": "markdown",
   "id": "abad55e8-6636-498e-966d-195f023b6f4b",
   "metadata": {},
   "source": [
    "### Conclusion\n",
    "Models trained on resampled data performs well, but there is still room for improvement. Feel free to play around with the hyperparameters, training data split ratio etc. "
   ]
  }
 ],
 "metadata": {
  "kernelspec": {
   "display_name": "Python 3",
   "language": "python",
   "name": "python3"
  },
  "language_info": {
   "codemirror_mode": {
    "name": "ipython",
    "version": 3
   },
   "file_extension": ".py",
   "mimetype": "text/x-python",
   "name": "python",
   "nbconvert_exporter": "python",
   "pygments_lexer": "ipython3",
   "version": "3.7.8"
  }
 },
 "nbformat": 4,
 "nbformat_minor": 5
}
