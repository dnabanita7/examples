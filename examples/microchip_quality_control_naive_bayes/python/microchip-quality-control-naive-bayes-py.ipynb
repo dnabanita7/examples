{
 "cells": [
  {
   "cell_type": "markdown",
   "id": "17c87307-ebd0-4845-be81-cc810834e193",
   "metadata": {},
   "source": [
    "### Micro Chip QA Classification using Naive Bayes Classifier\n",
    "\n",
    "### Our Objective\n",
    "* To reliably classify whether a micro chip is suitable for production usage, based on results of the quality tests.\n",
    "\n",
    "### Getting to know out MCQA dataset!\n",
    "Micro chip dataset contains only 3 features as follows:\n",
    "* Test_1 - Score quantifying the micro chip's performance on test 1.\n",
    "* Test_2 - Score quantifying the micro chip's performance on test 2.\n",
    "* QA_Passed - Target variable identifying if the mirco chip passed the test.\n",
    "\n",
    "### Approach\n",
    "* Initially we'll explore the dataset to check for imbalance & missing values.\n",
    "* Explore correlation between various features in the dataset.\n",
    "* Split the pre-processed dataset into train & test set respectively.\n",
    "* Create & train a Naive Bayes Classifier using mlpack.\n",
    "* We'll perform evaluation on our test set using various metrics to quantify the performance of our model."
   ]
  },
  {
   "cell_type": "code",
   "execution_count": 1,
   "id": "73eb4148-32fe-4564-82d0-84539a525964",
   "metadata": {},
   "outputs": [],
   "source": [
    "# Import necessary libraries.\n",
    "import numpy as np\n",
    "import pandas as pd\n",
    "import matplotlib.pyplot as plt\n",
    "import seaborn as sns\n",
    "import mlpack\n",
    "from sklearn.metrics import *"
   ]
  },
  {
   "cell_type": "code",
   "execution_count": 2,
   "id": "fbe4baff-310d-4131-a774-6a24c1b3ab0c",
   "metadata": {},
   "outputs": [],
   "source": [
    "%matplotlib inline\n",
    "sns.set(color_codes=True)"
   ]
  },
  {
   "cell_type": "code",
   "execution_count": 3,
   "id": "08fab591-cbaa-45d0-8cc3-b0bdc599957e",
   "metadata": {},
   "outputs": [],
   "source": [
    "# Read-in MCQA dataset using pandas.\n",
    "microChipData = pd.read_csv(\"http://datasets.mlpack.org/microChip.csv\")"
   ]
  },
  {
   "cell_type": "code",
   "execution_count": 4,
   "id": "1de37866-eb6c-4142-b041-c3d345604989",
   "metadata": {},
   "outputs": [
    {
     "data": {
      "text/html": [
       "<div>\n",
       "<style scoped>\n",
       "    .dataframe tbody tr th:only-of-type {\n",
       "        vertical-align: middle;\n",
       "    }\n",
       "\n",
       "    .dataframe tbody tr th {\n",
       "        vertical-align: top;\n",
       "    }\n",
       "\n",
       "    .dataframe thead th {\n",
       "        text-align: right;\n",
       "    }\n",
       "</style>\n",
       "<table border=\"1\" class=\"dataframe\">\n",
       "  <thead>\n",
       "    <tr style=\"text-align: right;\">\n",
       "      <th></th>\n",
       "      <th>Test_1</th>\n",
       "      <th>Test_2</th>\n",
       "      <th>QA_Passed</th>\n",
       "    </tr>\n",
       "  </thead>\n",
       "  <tbody>\n",
       "    <tr>\n",
       "      <th>0</th>\n",
       "      <td>34.623660</td>\n",
       "      <td>78.024693</td>\n",
       "      <td>0</td>\n",
       "    </tr>\n",
       "    <tr>\n",
       "      <th>1</th>\n",
       "      <td>30.286711</td>\n",
       "      <td>43.894998</td>\n",
       "      <td>0</td>\n",
       "    </tr>\n",
       "    <tr>\n",
       "      <th>2</th>\n",
       "      <td>35.847409</td>\n",
       "      <td>72.902198</td>\n",
       "      <td>0</td>\n",
       "    </tr>\n",
       "    <tr>\n",
       "      <th>3</th>\n",
       "      <td>60.182599</td>\n",
       "      <td>86.308552</td>\n",
       "      <td>1</td>\n",
       "    </tr>\n",
       "    <tr>\n",
       "      <th>4</th>\n",
       "      <td>79.032736</td>\n",
       "      <td>75.344376</td>\n",
       "      <td>1</td>\n",
       "    </tr>\n",
       "  </tbody>\n",
       "</table>\n",
       "</div>"
      ],
      "text/plain": [
       "      Test_1     Test_2  QA_Passed\n",
       "0  34.623660  78.024693          0\n",
       "1  30.286711  43.894998          0\n",
       "2  35.847409  72.902198          0\n",
       "3  60.182599  86.308552          1\n",
       "4  79.032736  75.344376          1"
      ]
     },
     "execution_count": 4,
     "metadata": {},
     "output_type": "execute_result"
    }
   ],
   "source": [
    "# Examine the first 5 samples from our dataset.\n",
    "microChipData.head()"
   ]
  },
  {
   "cell_type": "code",
   "execution_count": 5,
   "id": "0974e2c7-b318-4474-81eb-14d8349b80b6",
   "metadata": {},
   "outputs": [
    {
     "name": "stdout",
     "output_type": "stream",
     "text": [
      "<class 'pandas.core.frame.DataFrame'>\n",
      "RangeIndex: 100 entries, 0 to 99\n",
      "Data columns (total 3 columns):\n",
      " #   Column     Non-Null Count  Dtype  \n",
      "---  ------     --------------  -----  \n",
      " 0   Test_1     100 non-null    float64\n",
      " 1   Test_2     100 non-null    float64\n",
      " 2   QA_Passed  100 non-null    int64  \n",
      "dtypes: float64(2), int64(1)\n",
      "memory usage: 2.5 KB\n"
     ]
    }
   ],
   "source": [
    "# Concise summary of all the features in the dataframe.\n",
    "microChipData.info()"
   ]
  },
  {
   "cell_type": "code",
   "execution_count": 6,
   "id": "df1abc7b-1832-41c2-b36b-f37cd861241f",
   "metadata": {},
   "outputs": [
    {
     "data": {
      "text/plain": [
       "Test_1       0\n",
       "Test_2       0\n",
       "QA_Passed    0\n",
       "dtype: int64"
      ]
     },
     "execution_count": 6,
     "metadata": {},
     "output_type": "execute_result"
    }
   ],
   "source": [
    "# Inspect the dataset for missing values.\n",
    "microChipData.isnull().sum()"
   ]
  },
  {
   "cell_type": "code",
   "execution_count": 7,
   "id": "1b89ffee-77eb-4e51-be73-d9c03831eec5",
   "metadata": {},
   "outputs": [],
   "source": [
    "def PlotHeatMap(data, figWidth=8, figHeight=8):\n",
    "    \"\"\"\n",
    "    Generates an heatmap to visualize the correlation between various features in the dataset.\n",
    "    \n",
    "        Parameter:\n",
    "            data (DataFrame): Pandas dataframe to be ploted.\n",
    "            figWidth (int): Width of the figure.\n",
    "            figHeight (int): Height of the figure.\n",
    "            \n",
    "        Returns:\n",
    "            None\n",
    "    \"\"\"\n",
    "    plt.figure(figsize=(figWidth,figHeight))\n",
    "    sns.heatmap(data.corr(), square=True, \n",
    "                annot=True, fmt=\".2f\")\n",
    "    plt.show()"
   ]
  },
  {
   "cell_type": "code",
   "execution_count": 8,
   "id": "05b96acc-4384-46ae-a743-effc5946ed8e",
   "metadata": {},
   "outputs": [
    {
     "data": {
      "image/png": "[encoded data removed]",
      "text/plain": [
       "<Figure size 576x576 with 2 Axes>"
      ]
     },
     "metadata": {},
     "output_type": "display_data"
    }
   ],
   "source": [
    "# Plot the correlation between features as a heatmap.\n",
    "PlotHeatMap(microChipData)"
   ]
  },
  {
   "cell_type": "markdown",
   "id": "d1f39e43-9ebe-42f5-ba5b-48351ea7168f",
   "metadata": {},
   "source": [
    "As we can infer from the above heatmap, there is some correlation between Test_1, Test_2 & QA_Passed."
   ]
  },
  {
   "cell_type": "markdown",
   "id": "e6e504f5-8fbf-4ada-9ef4-cac6a472d490",
   "metadata": {},
   "source": [
    "### Exploratory Data Analysis"
   ]
  },
  {
   "cell_type": "code",
   "execution_count": 9,
   "id": "3a84a5b6-b736-4ad3-a006-7cc8a065faeb",
   "metadata": {},
   "outputs": [
    {
     "data": {
      "image/png": "[encoded data removed]",
      "text/plain": [
       "<Figure size 432x288 with 1 Axes>"
      ]
     },
     "metadata": {},
     "output_type": "display_data"
    }
   ],
   "source": [
    "sns.countplot(x=\"QA_Passed\", data=microChipData)\n",
    "plt.show()"
   ]
  },
  {
   "cell_type": "code",
   "execution_count": 10,
   "id": "ae2e5aa3-4376-494b-b388-1656971155aa",
   "metadata": {},
   "outputs": [],
   "source": [
    "def plotData(X, y) -> plt.axes:\n",
    "\n",
    "    fig = plt.figure()\n",
    "    ax = fig.add_subplot()\n",
    "\n",
    "    pos = np.argwhere(y == 1)\n",
    "    neg = np.argwhere(y == 0)\n",
    "\n",
    "    ax.scatter(X[neg, 0], X[neg, 1], c=\"yellow\", marker='o', edgecolor=\"black\", linewidth=0.5)\n",
    "    ax.scatter(X[pos, 0], X[pos, 1], c=\"black\", marker='+')\n",
    "    ax.set_xlabel(\"Microchip Test 1\")\n",
    "    ax.set_ylabel(\"Microchip Test 2\")\n",
    "    plt.legend([\"y = 0\", \"y = 1\"])\n",
    "    plt.show()"
   ]
  },
  {
   "cell_type": "code",
   "execution_count": 11,
   "id": "94a7835e-5626-4dd6-8ef9-0f5f41e6017d",
   "metadata": {},
   "outputs": [
    {
     "data": {
      "image/png": "[encoded data removed]",
      "text/plain": [
       "<Figure size 432x288 with 1 Axes>"
      ]
     },
     "metadata": {},
     "output_type": "display_data"
    }
   ],
   "source": [
    "plotData(microChipData.iloc[:,:-1].values, microChipData.iloc[:,-1].values)"
   ]
  },
  {
   "cell_type": "code",
   "execution_count": 12,
   "id": "476dbd82-faa7-4e9a-8645-f944e73a97ec",
   "metadata": {},
   "outputs": [],
   "source": [
    "def FeatureTargetSplit(data):\n",
    "    \"\"\"\n",
    "    Returns the Features of interest and targets.\n",
    "        \n",
    "        Parameter:\n",
    "            data (DataFrame): Pandas dataframe which is to be splited into features and targets.\n",
    "        \n",
    "        Returns:\n",
    "            features (DataFrame): Pandas dataframe consisting of the features.\n",
    "            target (DataFrame): Pandas dataframe containing the target.\n",
    "    \"\"\"\n",
    "    features = microChipData.drop(\"QA_Passed\", axis=1)\n",
    "    targets = microChipData[\"QA_Passed\"]\n",
    "    return features, targets"
   ]
  },
  {
   "cell_type": "code",
   "execution_count": 13,
   "id": "80bca8d5-f3ea-4a05-9c04-37e868514255",
   "metadata": {},
   "outputs": [],
   "source": [
    "features, targets = FeatureTargetSplit(microChipData)"
   ]
  },
  {
   "cell_type": "code",
   "execution_count": 14,
   "id": "b17225fd-377f-4ae4-a0e8-c40425402674",
   "metadata": {},
   "outputs": [],
   "source": [
    "def TrainTestSplit(features, target, test_ratio=0.2, standardize=False):\n",
    "    \"\"\"\n",
    "    Splits the features & target into respective training and test set based on the test ratio.\n",
    "    \n",
    "        Parameter:\n",
    "            features (DataFrame): Pandas dataframe containing the features.\n",
    "            target (DataFrame): Pandas dataframe containing the targets.\n",
    "            test_ratio (double): Percentage of dataset to be hold out for test set. default 20%.\n",
    "            standardize (bool): if True, features are scaled, default False.\n",
    "            \n",
    "        Returns:\n",
    "            Xtrain (DataFrame): Pandas dataframe containing training features.\n",
    "            Xtest (DataFrame): Pandas dataframe containing test features.\n",
    "            ytrain (DataFrame): Pandas dataframe containing training targets.\n",
    "            ytest (DataFrame): Pandas dataframe containing test targets.\n",
    "    \"\"\"\n",
    "    train_len = len(features)\n",
    "    train_idxs = list(range(train_len))\n",
    "    np.random.shuffle(train_idxs)\n",
    "    split = int(np.floor(test_ratio * train_len))\n",
    "    Xtest = features.iloc[train_idxs[:split], :].values\n",
    "    Xtrain = features.iloc[train_idxs[split:], :].values\n",
    "    ytest = target.iloc[train_idxs[:split]].values\n",
    "    ytrain = target.iloc[train_idxs[split:]].values\n",
    "    if standardize:\n",
    "        # Normalize Features.\n",
    "        Xtrain = StandardScaler(Xtrain)\n",
    "        Xtest = StandardScaler(Xtest)\n",
    "    return Xtrain, Xtest, ytrain, ytest\n",
    "\n",
    "\n",
    "\n",
    "def StandardScaler(data):\n",
    "    \"\"\"\n",
    "    Standardize features by removing the mean and scaling to unit variance.\n",
    "    \n",
    "        Parameter:\n",
    "            data (Dataframe): Pandas dataframe whose features must be scaled.\n",
    "        \n",
    "        Returns:\n",
    "            data (Dataframe): Pandas dataframe with scaled features.\n",
    "    \"\"\"\n",
    "    for col in range(data.shape[1]):\n",
    "        data[:, col] = (data[:, col] - data[:,col].mean()) / (data[:,col].std())\n",
    "    return data"
   ]
  },
  {
   "cell_type": "markdown",
   "id": "eeb5a883-a7c2-4cd3-83d9-6ce2b4b9efda",
   "metadata": {},
   "source": [
    "### Train Test Split\n",
    "The dataset has to be split into training and test set. Here the dataset has 100 observations and the test ratio is taken as 25% of the total observations. This indicates that the test set should have 25% * 100 = 25 observations and training set should have 75 observations respectively."
   ]
  },
  {
   "cell_type": "code",
   "execution_count": 15,
   "id": "06f945f4-fac2-40db-8b4a-b3f083c2fe3e",
   "metadata": {},
   "outputs": [],
   "source": [
    "Xtrain, Xtest, ytrain, ytest = TrainTestSplit(features, targets, 0.25)"
   ]
  },
  {
   "cell_type": "markdown",
   "id": "451effc7-8b8a-4c1d-bf12-db99e589f370",
   "metadata": {},
   "source": [
    "### Training the Naive Bayes Classifier\n",
    "Naive Bayes is a machine learning algorithm we use to solve classification problems. It is based on the Bayes Theorem. It is one of the simplest yet powerful ML algorithms and assumes that all predictors are independent.\n",
    "* It assumes that every feature is independent.\n",
    "* It gives every feature the same level of importance.\n",
    "\n",
    "$ P(Y|X) = \\frac{P(X|Y)P(Y)}{P(X)} $"
   ]
  },
  {
   "cell_type": "code",
   "execution_count": 16,
   "id": "7c4b2867-b95b-482b-8bb1-742fefca2fe4",
   "metadata": {},
   "outputs": [],
   "source": [
    "# Create and train Naive Bayes classifier.\n",
    "output = mlpack.nbc(training=Xtrain, labels=ytrain)\n",
    "nbc_model = output[\"output_model\"]"
   ]
  },
  {
   "cell_type": "markdown",
   "id": "7370b822-1c26-4787-8b7b-387a9b259115",
   "metadata": {},
   "source": [
    "### Making Predictions on Test set"
   ]
  },
  {
   "cell_type": "code",
   "execution_count": 17,
   "id": "277a8779-1a9e-4a83-b099-206a6dd412fd",
   "metadata": {},
   "outputs": [],
   "source": [
    "# Predict the values for test data using previously trained model as input.\n",
    "predictions = mlpack.nbc(input_model=nbc_model, test=Xtest)"
   ]
  },
  {
   "cell_type": "code",
   "execution_count": 18,
   "id": "55e49b92-0fd9-4d44-bf04-04534a6b374e",
   "metadata": {},
   "outputs": [],
   "source": [
    "yPreds = predictions[\"predictions\"].reshape(-1, 1).squeeze()"
   ]
  },
  {
   "cell_type": "markdown",
   "id": "9a0a18b4-4b65-41a7-b795-69af1eefdb5a",
   "metadata": {},
   "source": [
    "### Evaluation metrics\n",
    "\n",
    "* True Positive - The actual value was true & the model predicted true.\n",
    "* False Positive - The actual value was false & the model predicted true, Type I error.\n",
    "* True Negative - The actual value was false & the model predicted false.\n",
    "* False Negative - The actual value was true & the model predicted false, Type II error.\n",
    "\n",
    "`Accuracy`: is a metric that generally describes how the model performs across all classes. It is useful when all classes are of equal importance. It is calculated as the ratio between the number of correct predictions to the total number of predictions.\n",
    "\n",
    "$$Accuracy = \\frac{True_{positive} + True_{negative}}{True_{positive} + True_{negative} + False_{positive} + False_{negative}}$$\n",
    "\n",
    "`Precision`: is calculated as the ratio between the number of positive samples correctly classified to the total number of samples classified as Positive. The precision measures the model's accuracy in classifying a sample as positive.\n",
    "\n",
    "$$Precision = \\frac{True_{positive}}{True_{positive} + False_{positive}}$$\n",
    "\n",
    "`Recall`: is calulated as the ratio between the number of positive samples correctly classified as Positive to the total number of Positive samples. The recall measures the model's ability to detect Positive samples. The higher the recall, the more positive samples detected.\n",
    "\n",
    "$$Recall = \\frac{True_{positive}}{True_{positive} + False_{negative}}$$\n",
    "\n",
    "* The decision of whether to use precision or recall depends on the type of problem begin solved.\n",
    "* If the goal is to detect all positive samples then use recall.\n",
    "* Use precision if the problem is sensitive to classifying a sample as Positive in general.\n",
    "\n",
    "* ROC graph has the True Positive rate on the y axis and the False Positive rate on the x axis.\n",
    "* ROC Area under the curve in the graph is the primary metric to determine if the classifier is doing well, the higher the value the higher the model performance."
   ]
  },
  {
   "cell_type": "code",
   "execution_count": 19,
   "id": "28c9d75d-cb4f-4be1-b0d2-b3d96c01c6a0",
   "metadata": {},
   "outputs": [],
   "source": [
    "def PlotRocAUC(fper, tper):\n",
    "    \"\"\"\n",
    "    Generates a ROC AUC curve for the give True Positive Rate and False Positive Rate.\n",
    "    \n",
    "            Parameter:\n",
    "                fper (np.ndarray): Contains the false positive rate.\n",
    "                tper (np.ndarray): Contains the true positive rate.\n",
    "            \n",
    "            Returns:\n",
    "                None\n",
    "    \"\"\"\n",
    "    plt.plot(fper, tper, color=\"orange\", label=\"ROC\")\n",
    "    plt.plot([0, 1], [0, 1], color=\"darkblue\", linestyle=\"--\")\n",
    "    plt.xlabel(\"False Positive Rate\")\n",
    "    plt.ylabel(\"True Positive Rate\")\n",
    "    plt.title(\"ROC Curve\")\n",
    "    plt.legend()\n",
    "    plt.show()\n",
    "    \n",
    "def modelEval(ytest, yPreds):\n",
    "    print(f\"Accuracy: {accuracy_score(ytest, yPreds)}\")\n",
    "    print(f\"ROC AUC: {roc_auc_score(ytest, yPreds)}\")\n",
    "    print(f\"Cohen's Kappa: {cohen_kappa_score(ytest, yPreds)}\")\n",
    "    print(classification_report(ytest,yPreds))\n",
    "    fper, tper, thresh = roc_curve(ytest, predictions[\"probabilities\"][:, 1])\n",
    "    PlotRocAUC(fper, tper)"
   ]
  },
  {
   "cell_type": "markdown",
   "id": "702cbf08-0896-445e-bb05-033ea512e556",
   "metadata": {},
   "source": [
    "### Model Evaluation"
   ]
  },
  {
   "cell_type": "code",
   "execution_count": 20,
   "id": "0fc33738-ef9a-4430-a709-ebc2cde28ac0",
   "metadata": {},
   "outputs": [
    {
     "name": "stdout",
     "output_type": "stream",
     "text": [
      "Accuracy: 0.92\n",
      "ROC AUC: 0.9166666666666667\n",
      "Cohen's Kappa: 0.8387096774193549\n",
      "              precision    recall  f1-score   support\n",
      "\n",
      "           0       1.00      0.83      0.91        12\n",
      "           1       0.87      1.00      0.93        13\n",
      "\n",
      "    accuracy                           0.92        25\n",
      "   macro avg       0.93      0.92      0.92        25\n",
      "weighted avg       0.93      0.92      0.92        25\n",
      "\n"
     ]
    },
    {
     "data": {
      "image/png": "[encoded data removed]",
      "text/plain": [
       "<Figure size 432x288 with 1 Axes>"
      ]
     },
     "metadata": {},
     "output_type": "display_data"
    }
   ],
   "source": [
    "modelEval(ytest, yPreds)"
   ]
  },
  {
   "cell_type": "markdown",
   "id": "d4c4d3ce-0e72-4f63-baf7-6f55bc897239",
   "metadata": {},
   "source": [
    "### Conclusion\n",
    "From the above classification report & a ROC AUC, we can infer that our Naive Bayes Classifier model kinda performs well on our micro chip QA. Feel free to play around with h-params, split ratio etc."
   ]
  }
 ],
 "metadata": {
  "kernelspec": {
   "display_name": "Python 3",
   "language": "python",
   "name": "python3"
  },
  "language_info": {
   "codemirror_mode": {
    "name": "ipython",
    "version": 3
   },
   "file_extension": ".py",
   "mimetype": "text/x-python",
   "name": "python",
   "nbconvert_exporter": "python",
   "pygments_lexer": "ipython3",
   "version": "3.7.8"
  }
 },
 "nbformat": 4,
 "nbformat_minor": 5
}
