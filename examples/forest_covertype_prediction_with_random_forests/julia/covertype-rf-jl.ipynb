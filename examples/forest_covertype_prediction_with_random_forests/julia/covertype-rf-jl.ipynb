{
  "cells":[
    {
      "metadata":{

      },
      "cell_type":"markdown",
      "source":"[![Binder](https://mybinder.org/badge_logo.svg)](https://lab.mlpack.org/v2/gh/mlpack/examples/master?urlpath=lab%2Ftree%2Fforest_covertype_prediction_with_random_forests%2Fcovertype-rf-jl.ipynb)"
    },
    {
      "metadata":{
        "trusted":true
      },
      "cell_type":"code",
      "source":"# @file covertype-rf-jl.ipynb\n#\n# Classification using Random Forest on the Covertype dataset.",
      "execution_count":null,
      "outputs":[

      ]
    },
    {
      "metadata":{
        "trusted":true
      },
      "cell_type":"code",
      "source":"using CSV\nusing DataFrames\nusing Libz\nusing mlpack",
      "execution_count":11,
      "outputs":[

      ]
    },
    {
      "metadata":{
        "trusted":true
      },
      "cell_type":"code",
      "source":"# Load the dataset from an online URL.\ndf = CSV.read(ZlibInflateInputStream(open(download(\n    \"https://lab.mlpack.org/data/covertype-small.csv.gz\"))))",
      "execution_count":12,
      "outputs":[
        {
          "output_type":"stream",
          "text":"┌ Warning: `CSV.read(input; kw...)` is deprecated in favor of `DataFrame!(CSV.File(input; kw...))`\n└ @ CSV /srv/julia/pkg/packages/CSV/W9RT2/src/CSV.jl:40\n┌ Warning: `CSV.File` or `CSV.Rows` with `BufferedStreams.BufferedInputStream{Libz.Source{:inflate,BufferedStreams.BufferedInputStream{IOStream}}}` object is deprecated; pass a filename, `IOBuffer`, or byte buffer directly (via `read(x)`)\n└ @ CSV /srv/julia/pkg/packages/CSV/W9RT2/src/utils.jl:239\n",
          "name":"stderr"
        },
        {
          "output_type":"execute_result",
          "execution_count":12,
          "data":{
            "text/plain":"100000×55 DataFrame. Omitted printing of 51 columns\n│ Row    │ elevation │ aspect │ slope │ horizontal_distance_to_hydrology │\n│        │ \u001b[90mInt64\u001b[39m     │ \u001b[90mInt64\u001b[39m  │ \u001b[90mInt64\u001b[39m │ \u001b[90mInt64\u001b[39m                            │\n├────────┼───────────┼────────┼───────┼──────────────────────────────────┤\n│ 1      │ 3493      │ 16     │ 14    │ 660                              │\n│ 2      │ 2917      │ 4      │ 15    │ 525                              │\n│ 3      │ 3281      │ 64     │ 13    │ 420                              │\n│ 4      │ 3021      │ 90     │ 14    │ 0                                │\n│ 5      │ 3287      │ 28     │ 10    │ 323                              │\n│ 6      │ 3093      │ 25     │ 14    │ 90                               │\n│ 7      │ 3320      │ 58     │ 17    │ 503                              │\n│ 8      │ 2968      │ 140    │ 12    │ 108                              │\n│ 9      │ 2381      │ 324    │ 24    │ 150                              │\n│ 10     │ 2426      │ 65     │ 20    │ 433                              │\n⋮\n│ 99990  │ 2926      │ 287    │ 18    │ 108                              │\n│ 99991  │ 2987      │ 67     │ 26    │ 547                              │\n│ 99992  │ 3199      │ 96     │ 7     │ 85                               │\n│ 99993  │ 3025      │ 229    │ 10    │ 120                              │\n│ 99994  │ 3210      │ 126    │ 4     │ 738                              │\n│ 99995  │ 3122      │ 106    │ 17    │ 600                              │\n│ 99996  │ 3258      │ 45     │ 8     │ 0                                │\n│ 99997  │ 3290      │ 33     │ 11    │ 361                              │\n│ 99998  │ 2977      │ 271    │ 33    │ 351                              │\n│ 99999  │ 3084      │ 323    │ 7     │ 108                              │\n│ 100000 │ 3210      │ 236    │ 2     │ 618                              │",
            "text/html":"<table class=\"data-frame\"><thead><tr><th></th><th>elevation</th><th>aspect</th><th>slope</th><th>horizontal_distance_to_hydrology</th><th>vertical_distance_to_hydrology</th></tr><tr><th></th><th>Int64</th><th>Int64</th><th>Int64</th><th>Int64</th><th>Int64</th></tr></thead><tbody><p>100,000 rows × 55 columns (omitted printing of 50 columns)</p><tr><th>1</th><td>3493</td><td>16</td><td>14</td><td>660</td><td>145</td></tr><tr><th>2</th><td>2917</td><td>4</td><td>15</td><td>525</td><td>135</td></tr><tr><th>3</th><td>3281</td><td>64</td><td>13</td><td>420</td><td>153</td></tr><tr><th>4</th><td>3021</td><td>90</td><td>14</td><td>0</td><td>0</td></tr><tr><th>5</th><td>3287</td><td>28</td><td>10</td><td>323</td><td>84</td></tr><tr><th>6</th><td>3093</td><td>25</td><td>14</td><td>90</td><td>17</td></tr><tr><th>7</th><td>3320</td><td>58</td><td>17</td><td>503</td><td>86</td></tr><tr><th>8</th><td>2968</td><td>140</td><td>12</td><td>108</td><td>16</td></tr><tr><th>9</th><td>2381</td><td>324</td><td>24</td><td>150</td><td>75</td></tr><tr><th>10</th><td>2426</td><td>65</td><td>20</td><td>433</td><td>90</td></tr><tr><th>11</th><td>2755</td><td>39</td><td>9</td><td>258</td><td>32</td></tr><tr><th>12</th><td>2183</td><td>313</td><td>22</td><td>95</td><td>24</td></tr><tr><th>13</th><td>2745</td><td>351</td><td>11</td><td>170</td><td>20</td></tr><tr><th>14</th><td>3112</td><td>160</td><td>17</td><td>134</td><td>14</td></tr><tr><th>15</th><td>3260</td><td>340</td><td>13</td><td>918</td><td>79</td></tr><tr><th>16</th><td>3194</td><td>325</td><td>17</td><td>192</td><td>36</td></tr><tr><th>17</th><td>3181</td><td>79</td><td>1</td><td>42</td><td>1</td></tr><tr><th>18</th><td>2546</td><td>340</td><td>31</td><td>216</td><td>123</td></tr><tr><th>19</th><td>2919</td><td>221</td><td>13</td><td>350</td><td>16</td></tr><tr><th>20</th><td>2206</td><td>13</td><td>20</td><td>127</td><td>41</td></tr><tr><th>21</th><td>3064</td><td>17</td><td>7</td><td>342</td><td>60</td></tr><tr><th>22</th><td>2811</td><td>295</td><td>39</td><td>351</td><td>162</td></tr><tr><th>23</th><td>3260</td><td>241</td><td>6</td><td>618</td><td>78</td></tr><tr><th>24</th><td>2577</td><td>40</td><td>13</td><td>420</td><td>-42</td></tr><tr><th>25</th><td>3269</td><td>320</td><td>8</td><td>60</td><td>7</td></tr><tr><th>26</th><td>2824</td><td>231</td><td>3</td><td>120</td><td>19</td></tr><tr><th>27</th><td>2644</td><td>63</td><td>14</td><td>361</td><td>34</td></tr><tr><th>28</th><td>3025</td><td>11</td><td>1</td><td>510</td><td>114</td></tr><tr><th>29</th><td>2846</td><td>24</td><td>23</td><td>371</td><td>174</td></tr><tr><th>30</th><td>3011</td><td>123</td><td>21</td><td>390</td><td>144</td></tr><tr><th>&vellip;</th><td>&vellip;</td><td>&vellip;</td><td>&vellip;</td><td>&vellip;</td><td>&vellip;</td></tr></tbody></table>",
            "text/latex":"\\begin{tabular}{r|cccccc}\n\t& elevation & aspect & slope & horizontal\\_distance\\_to\\_hydrology & vertical\\_distance\\_to\\_hydrology & \\\\\n\t\\hline\n\t& Int64 & Int64 & Int64 & Int64 & Int64 & \\\\\n\t\\hline\n\t1 & 3493 & 16 & 14 & 660 & 145 & $\\dots$ \\\\\n\t2 & 2917 & 4 & 15 & 525 & 135 & $\\dots$ \\\\\n\t3 & 3281 & 64 & 13 & 420 & 153 & $\\dots$ \\\\\n\t4 & 3021 & 90 & 14 & 0 & 0 & $\\dots$ \\\\\n\t5 & 3287 & 28 & 10 & 323 & 84 & $\\dots$ \\\\\n\t6 & 3093 & 25 & 14 & 90 & 17 & $\\dots$ \\\\\n\t7 & 3320 & 58 & 17 & 503 & 86 & $\\dots$ \\\\\n\t8 & 2968 & 140 & 12 & 108 & 16 & $\\dots$ \\\\\n\t9 & 2381 & 324 & 24 & 150 & 75 & $\\dots$ \\\\\n\t10 & 2426 & 65 & 20 & 433 & 90 & $\\dots$ \\\\\n\t11 & 2755 & 39 & 9 & 258 & 32 & $\\dots$ \\\\\n\t12 & 2183 & 313 & 22 & 95 & 24 & $\\dots$ \\\\\n\t13 & 2745 & 351 & 11 & 170 & 20 & $\\dots$ \\\\\n\t14 & 3112 & 160 & 17 & 134 & 14 & $\\dots$ \\\\\n\t15 & 3260 & 340 & 13 & 918 & 79 & $\\dots$ \\\\\n\t16 & 3194 & 325 & 17 & 192 & 36 & $\\dots$ \\\\\n\t17 & 3181 & 79 & 1 & 42 & 1 & $\\dots$ \\\\\n\t18 & 2546 & 340 & 31 & 216 & 123 & $\\dots$ \\\\\n\t19 & 2919 & 221 & 13 & 350 & 16 & $\\dots$ \\\\\n\t20 & 2206 & 13 & 20 & 127 & 41 & $\\dots$ \\\\\n\t21 & 3064 & 17 & 7 & 342 & 60 & $\\dots$ \\\\\n\t22 & 2811 & 295 & 39 & 351 & 162 & $\\dots$ \\\\\n\t23 & 3260 & 241 & 6 & 618 & 78 & $\\dots$ \\\\\n\t24 & 2577 & 40 & 13 & 420 & -42 & $\\dots$ \\\\\n\t25 & 3269 & 320 & 8 & 60 & 7 & $\\dots$ \\\\\n\t26 & 2824 & 231 & 3 & 120 & 19 & $\\dots$ \\\\\n\t27 & 2644 & 63 & 14 & 361 & 34 & $\\dots$ \\\\\n\t28 & 3025 & 11 & 1 & 510 & 114 & $\\dots$ \\\\\n\t29 & 2846 & 24 & 23 & 371 & 174 & $\\dots$ \\\\\n\t30 & 3011 & 123 & 21 & 390 & 144 & $\\dots$ \\\\\n\t$\\dots$ & $\\dots$ & $\\dots$ & $\\dots$ & $\\dots$ & $\\dots$ &  \\\\\n\\end{tabular}\n"
          },
          "metadata":{

          }
        }
      ]
    },
    {
      "metadata":{
        "trusted":true
      },
      "cell_type":"code",
      "source":"# Split the labels.\nlabels = df[!, :label][:]\ndataset = select!(df, Not(:label))",
      "execution_count":13,
      "outputs":[
        {
          "output_type":"execute_result",
          "execution_count":13,
          "data":{
            "text/plain":"100000×54 DataFrame. Omitted printing of 50 columns\n│ Row    │ elevation │ aspect │ slope │ horizontal_distance_to_hydrology │\n│        │ \u001b[90mInt64\u001b[39m     │ \u001b[90mInt64\u001b[39m  │ \u001b[90mInt64\u001b[39m │ \u001b[90mInt64\u001b[39m                            │\n├────────┼───────────┼────────┼───────┼──────────────────────────────────┤\n│ 1      │ 3493      │ 16     │ 14    │ 660                              │\n│ 2      │ 2917      │ 4      │ 15    │ 525                              │\n│ 3      │ 3281      │ 64     │ 13    │ 420                              │\n│ 4      │ 3021      │ 90     │ 14    │ 0                                │\n│ 5      │ 3287      │ 28     │ 10    │ 323                              │\n│ 6      │ 3093      │ 25     │ 14    │ 90                               │\n│ 7      │ 3320      │ 58     │ 17    │ 503                              │\n│ 8      │ 2968      │ 140    │ 12    │ 108                              │\n│ 9      │ 2381      │ 324    │ 24    │ 150                              │\n│ 10     │ 2426      │ 65     │ 20    │ 433                              │\n⋮\n│ 99990  │ 2926      │ 287    │ 18    │ 108                              │\n│ 99991  │ 2987      │ 67     │ 26    │ 547                              │\n│ 99992  │ 3199      │ 96     │ 7     │ 85                               │\n│ 99993  │ 3025      │ 229    │ 10    │ 120                              │\n│ 99994  │ 3210      │ 126    │ 4     │ 738                              │\n│ 99995  │ 3122      │ 106    │ 17    │ 600                              │\n│ 99996  │ 3258      │ 45     │ 8     │ 0                                │\n│ 99997  │ 3290      │ 33     │ 11    │ 361                              │\n│ 99998  │ 2977      │ 271    │ 33    │ 351                              │\n│ 99999  │ 3084      │ 323    │ 7     │ 108                              │\n│ 100000 │ 3210      │ 236    │ 2     │ 618                              │",
            "text/html":"<table class=\"data-frame\"><thead><tr><th></th><th>elevation</th><th>aspect</th><th>slope</th><th>horizontal_distance_to_hydrology</th><th>vertical_distance_to_hydrology</th></tr><tr><th></th><th>Int64</th><th>Int64</th><th>Int64</th><th>Int64</th><th>Int64</th></tr></thead><tbody><p>100,000 rows × 54 columns (omitted printing of 49 columns)</p><tr><th>1</th><td>3493</td><td>16</td><td>14</td><td>660</td><td>145</td></tr><tr><th>2</th><td>2917</td><td>4</td><td>15</td><td>525</td><td>135</td></tr><tr><th>3</th><td>3281</td><td>64</td><td>13</td><td>420</td><td>153</td></tr><tr><th>4</th><td>3021</td><td>90</td><td>14</td><td>0</td><td>0</td></tr><tr><th>5</th><td>3287</td><td>28</td><td>10</td><td>323</td><td>84</td></tr><tr><th>6</th><td>3093</td><td>25</td><td>14</td><td>90</td><td>17</td></tr><tr><th>7</th><td>3320</td><td>58</td><td>17</td><td>503</td><td>86</td></tr><tr><th>8</th><td>2968</td><td>140</td><td>12</td><td>108</td><td>16</td></tr><tr><th>9</th><td>2381</td><td>324</td><td>24</td><td>150</td><td>75</td></tr><tr><th>10</th><td>2426</td><td>65</td><td>20</td><td>433</td><td>90</td></tr><tr><th>11</th><td>2755</td><td>39</td><td>9</td><td>258</td><td>32</td></tr><tr><th>12</th><td>2183</td><td>313</td><td>22</td><td>95</td><td>24</td></tr><tr><th>13</th><td>2745</td><td>351</td><td>11</td><td>170</td><td>20</td></tr><tr><th>14</th><td>3112</td><td>160</td><td>17</td><td>134</td><td>14</td></tr><tr><th>15</th><td>3260</td><td>340</td><td>13</td><td>918</td><td>79</td></tr><tr><th>16</th><td>3194</td><td>325</td><td>17</td><td>192</td><td>36</td></tr><tr><th>17</th><td>3181</td><td>79</td><td>1</td><td>42</td><td>1</td></tr><tr><th>18</th><td>2546</td><td>340</td><td>31</td><td>216</td><td>123</td></tr><tr><th>19</th><td>2919</td><td>221</td><td>13</td><td>350</td><td>16</td></tr><tr><th>20</th><td>2206</td><td>13</td><td>20</td><td>127</td><td>41</td></tr><tr><th>21</th><td>3064</td><td>17</td><td>7</td><td>342</td><td>60</td></tr><tr><th>22</th><td>2811</td><td>295</td><td>39</td><td>351</td><td>162</td></tr><tr><th>23</th><td>3260</td><td>241</td><td>6</td><td>618</td><td>78</td></tr><tr><th>24</th><td>2577</td><td>40</td><td>13</td><td>420</td><td>-42</td></tr><tr><th>25</th><td>3269</td><td>320</td><td>8</td><td>60</td><td>7</td></tr><tr><th>26</th><td>2824</td><td>231</td><td>3</td><td>120</td><td>19</td></tr><tr><th>27</th><td>2644</td><td>63</td><td>14</td><td>361</td><td>34</td></tr><tr><th>28</th><td>3025</td><td>11</td><td>1</td><td>510</td><td>114</td></tr><tr><th>29</th><td>2846</td><td>24</td><td>23</td><td>371</td><td>174</td></tr><tr><th>30</th><td>3011</td><td>123</td><td>21</td><td>390</td><td>144</td></tr><tr><th>&vellip;</th><td>&vellip;</td><td>&vellip;</td><td>&vellip;</td><td>&vellip;</td><td>&vellip;</td></tr></tbody></table>",
            "text/latex":"\\begin{tabular}{r|cccccc}\n\t& elevation & aspect & slope & horizontal\\_distance\\_to\\_hydrology & vertical\\_distance\\_to\\_hydrology & \\\\\n\t\\hline\n\t& Int64 & Int64 & Int64 & Int64 & Int64 & \\\\\n\t\\hline\n\t1 & 3493 & 16 & 14 & 660 & 145 & $\\dots$ \\\\\n\t2 & 2917 & 4 & 15 & 525 & 135 & $\\dots$ \\\\\n\t3 & 3281 & 64 & 13 & 420 & 153 & $\\dots$ \\\\\n\t4 & 3021 & 90 & 14 & 0 & 0 & $\\dots$ \\\\\n\t5 & 3287 & 28 & 10 & 323 & 84 & $\\dots$ \\\\\n\t6 & 3093 & 25 & 14 & 90 & 17 & $\\dots$ \\\\\n\t7 & 3320 & 58 & 17 & 503 & 86 & $\\dots$ \\\\\n\t8 & 2968 & 140 & 12 & 108 & 16 & $\\dots$ \\\\\n\t9 & 2381 & 324 & 24 & 150 & 75 & $\\dots$ \\\\\n\t10 & 2426 & 65 & 20 & 433 & 90 & $\\dots$ \\\\\n\t11 & 2755 & 39 & 9 & 258 & 32 & $\\dots$ \\\\\n\t12 & 2183 & 313 & 22 & 95 & 24 & $\\dots$ \\\\\n\t13 & 2745 & 351 & 11 & 170 & 20 & $\\dots$ \\\\\n\t14 & 3112 & 160 & 17 & 134 & 14 & $\\dots$ \\\\\n\t15 & 3260 & 340 & 13 & 918 & 79 & $\\dots$ \\\\\n\t16 & 3194 & 325 & 17 & 192 & 36 & $\\dots$ \\\\\n\t17 & 3181 & 79 & 1 & 42 & 1 & $\\dots$ \\\\\n\t18 & 2546 & 340 & 31 & 216 & 123 & $\\dots$ \\\\\n\t19 & 2919 & 221 & 13 & 350 & 16 & $\\dots$ \\\\\n\t20 & 2206 & 13 & 20 & 127 & 41 & $\\dots$ \\\\\n\t21 & 3064 & 17 & 7 & 342 & 60 & $\\dots$ \\\\\n\t22 & 2811 & 295 & 39 & 351 & 162 & $\\dots$ \\\\\n\t23 & 3260 & 241 & 6 & 618 & 78 & $\\dots$ \\\\\n\t24 & 2577 & 40 & 13 & 420 & -42 & $\\dots$ \\\\\n\t25 & 3269 & 320 & 8 & 60 & 7 & $\\dots$ \\\\\n\t26 & 2824 & 231 & 3 & 120 & 19 & $\\dots$ \\\\\n\t27 & 2644 & 63 & 14 & 361 & 34 & $\\dots$ \\\\\n\t28 & 3025 & 11 & 1 & 510 & 114 & $\\dots$ \\\\\n\t29 & 2846 & 24 & 23 & 371 & 174 & $\\dots$ \\\\\n\t30 & 3011 & 123 & 21 & 390 & 144 & $\\dots$ \\\\\n\t$\\dots$ & $\\dots$ & $\\dots$ & $\\dots$ & $\\dots$ & $\\dots$ &  \\\\\n\\end{tabular}\n"
          },
          "metadata":{

          }
        }
      ]
    },
    {
      "metadata":{
        "trusted":true
      },
      "cell_type":"code",
      "source":"# Split the dataset using mlpack.\ntest, test_labels, train, train_labels = mlpack.preprocess_split(\n    dataset,\n    input_labels=labels,\n    test_ratio=0.3)",
      "execution_count":14,
      "outputs":[
        {
          "output_type":"execute_result",
          "execution_count":14,
          "data":{
            "text/plain":"([2933.0 203.0 … 0.0 0.0; 2926.0 278.0 … 0.0 0.0; … ; 2636.0 16.0 … 0.0 0.0; 2818.0 0.0 … 0.0 0.0], [2; 2; … ; 2; 2], [3322.0 294.0 … 1.0 0.0; 2867.0 154.0 … 0.0 0.0; … ; 3167.0 56.0 … 0.0 0.0; 2410.0 58.0 … 0.0 0.0], [1; 2; … ; 2; 3])"
          },
          "metadata":{

          }
        }
      ]
    },
    {
      "metadata":{
        "trusted":true
      },
      "cell_type":"code",
      "source":"# Train a random forest.\nrf_model, _, _ = mlpack.random_forest(training=train,\n    labels=train_labels,\n    print_training_accuracy=true,\n    num_trees=10,\n    minimum_leaf_size=3);",
      "execution_count":15,
      "outputs":[

      ]
    },
    {
      "metadata":{
        "trusted":true
      },
      "cell_type":"code",
      "source":"# Predict the labels of the test points.\n_, predictions, _ = mlpack.random_forest(input_model=rf_model,\n                                         test=test);",
      "execution_count":16,
      "outputs":[

      ]
    },
    {
      "metadata":{
        "trusted":true
      },
      "cell_type":"code",
      "source":"# Now print the accuracy.  The third return value ('probabilities'), which we\n# ignored here, could also be used to generate an ROC curve.\ncorrect = sum(predictions .== test_labels)\nprint(\"$(correct) out of $(length(test_labels)) test points correct \" *\n    \"($(correct / length(test_labels) * 100.0)%).\\n\")",
      "execution_count":17,
      "outputs":[
        {
          "output_type":"stream",
          "text":"24708 out of 30000 test points correct (82.36%).\n",
          "name":"stdout"
        }
      ]
    }
  ],
  "metadata":{
    "language_info":{
      "file_extension":".jl",
      "name":"julia",
      "mimetype":"application/julia",
      "version":"1.4.2"
    },
    "kernelspec":{
      "name":"julia-1.4",
      "display_name":"Julia 1.4.2",
      "language":"julia"
    }
  },
  "nbformat":4,
  "nbformat_minor":4
}
