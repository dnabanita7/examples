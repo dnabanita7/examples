{
  "metadata":{
    "language_info":{
      "name":"go",
      "version":"go1.13.5",
      "mimetype":"",
      "file_extension":".go",
      "pygments_lexer":"",
      "codemirror_mode":"",
      "nbconvert_exporter":""
    },
    "kernelspec":{
      "name":"gophernotes",
      "display_name":"Go",
      "language":"go"
    }
  },
  "nbformat_minor":4,
  "nbformat":4,
  "cells":[
    {
      "cell_type":"markdown",
      "source":"[![Binder](https://mybinder.org/badge_logo.svg)](https://lab.mlpack.org/v2/gh/mlpack/examples/master?urlpath=lab%2Ftree%2Fforest_covertype_prediction_with_random_forests%2Fcovertype-rf-go.ipynb)",
      "metadata":{

      }
    },
    {
      "cell_type":"code",
      "source":"/**\n * @file covertype-rf-go.ipynb\n *\n * Classification using Random Forest on the Covertype dataset.\n */",
      "metadata":{
        "trusted":true
      },
      "execution_count":1,
      "outputs":[

      ]
    },
    {
      "cell_type":"code",
      "source":"// Switch to the non module-aware mechanism when importing a package,\n// Jupyter kernel workaround.",
      "metadata":{
        "trusted":true
      },
      "execution_count":2,
      "outputs":[

      ]
    },
    {
      "cell_type":"code",
      "source":"%go111module off",
      "metadata":{
        "trusted":true
      },
      "execution_count":3,
      "outputs":[

      ]
    },
    {
      "cell_type":"code",
      "source":"import (\n  \"mlpack.org/v1/mlpack\"\n  \"fmt\"\n)",
      "metadata":{
        "trusted":true
      },
      "execution_count":4,
      "outputs":[

      ]
    },
    {
      "cell_type":"code",
      "source":"// Load the dataset from an online URL.\nmlpack.DownloadFile(\"https://lab.mlpack.org/data/covertype-small.data.csv.gz\",\n    \"data.csv.gz\")\nmlpack.DownloadFile(\"https://lab.mlpack.org/data/covertype-small.labels.csv.gz\",\n    \"labels.csv.gz\")",
      "metadata":{
        "trusted":true
      },
      "execution_count":5,
      "outputs":[

      ]
    },
    {
      "cell_type":"code",
      "source":"// Extract/Unzip the dataset.\nmlpack.UnZip(\"data.csv.gz\", \"data.csv\")\ndataset, _ := mlpack.Load(\"data.csv\")\n\nmlpack.UnZip(\"labels.csv.gz\", \"labels.csv\")\nlabels, _ := mlpack.Load(\"labels.csv\")",
      "metadata":{
        "trusted":true
      },
      "execution_count":6,
      "outputs":[

      ]
    },
    {
      "cell_type":"code",
      "source":"// Split the dataset using mlpack.\nparams := mlpack.PreprocessSplitOptions()\nparams.InputLabels = labels\nparams.TestRatio = 0.3\nparams.Verbose = true\ntest, test_labels, train, train_labels :=\n    mlpack.PreprocessSplit(dataset, params)",
      "metadata":{
        "trusted":true
      },
      "execution_count":7,
      "outputs":[

      ]
    },
    {
      "cell_type":"code",
      "source":"// Train a random forest.\nrf_params := mlpack.RandomForestOptions()\nrf_params.NumTrees = 10\nrf_params.MinimumLeafSize = 3\nrf_params.PrintTrainingAccuracy = true\nrf_params.Training = train\nrf_params.Labels = train_labels\nrf_params.Verbose = true\nrf_model, _, _ := mlpack.RandomForest(rf_params)",
      "metadata":{
        "trusted":true
      },
      "execution_count":8,
      "outputs":[

      ]
    },
    {
      "cell_type":"code",
      "source":"// Predict the labels of the test points.\nrf_params_2 := mlpack.RandomForestOptions()\nrf_params_2.Test = test\nrf_params_2.InputModel = &rf_model\nrf_params_2.Verbose = true\n_, predictions, _ := mlpack.RandomForest(rf_params_2)",
      "metadata":{
        "trusted":true
      },
      "execution_count":9,
      "outputs":[

      ]
    },
    {
      "cell_type":"code",
      "source":"// Now print the accuracy.\nrows, _ := predictions.Dims()\nvar sum int = 0\nfor i := 0; i < rows; i++ {\n  if (predictions.At(i, 0) == test_labels.At(i, 0)) {\n    sum = sum + 1\n  }\n}\n\nfmt.Print(sum, \" correct out of \", rows, \" (\",\n    (float64(sum) / float64(rows)) * 100, \"%).\\n\")",
      "metadata":{
        "trusted":true
      },
      "execution_count":10,
      "outputs":[
        {
          "name":"stdout",
          "text":"24430 correct out of 30000 (81.43333333333334%).\n",
          "output_type":"stream"
        },
        {
          "execution_count":10,
          "output_type":"execute_result",
          "data":{
            "text/plain":"49 <nil>"
          },
          "metadata":{

          }
        }
      ]
    }
  ]
}
