{
  "metadata":{
    "language_info":{
      "name":"python",
      "version":"3.7.6",
      "mimetype":"text/x-python",
      "codemirror_mode":{
        "name":"ipython",
        "version":3
      },
      "pygments_lexer":"ipython3",
      "nbconvert_exporter":"python",
      "file_extension":".py"
    },
    "kernelspec":{
      "name":"python3",
      "display_name":"Python 3",
      "language":"python"
    }
  },
  "nbformat_minor":4,
  "nbformat":4,
  "cells":[
    {
      "cell_type":"markdown",
      "source":"[![Binder](https://mybinder.org/badge_logo.svg)](https://lab.mlpack.org/v2/gh/mlpack/examples/master?urlpath=lab%2Ftree%2Fforest_covertype_prediction_with_random_forests%2Fcovertype-rf-py.ipynb)",
      "metadata":{

      }
    },
    {
      "cell_type":"code",
      "source":"# @file covertype-rf-py.ipynb\n#\n# Classification using Random Forest on the Covertype dataset.",
      "metadata":{
        "trusted":true
      },
      "execution_count":11,
      "outputs":[

      ]
    },
    {
      "cell_type":"code",
      "source":"import mlpack\nimport pandas as pd\nimport numpy as np",
      "metadata":{
        "trusted":true
      },
      "execution_count":12,
      "outputs":[

      ]
    },
    {
      "cell_type":"code",
      "source":"# Load the dataset from an online URL.\ndf = pd.read_csv('https://lab.mlpack.org/data/covertype-small.csv.gz')",
      "metadata":{
        "trusted":true
      },
      "execution_count":13,
      "outputs":[

      ]
    },
    {
      "cell_type":"code",
      "source":"# Split the labels.\nlabels = df['label']\ndataset = df.drop('label', 1)",
      "metadata":{
        "trusted":true
      },
      "execution_count":14,
      "outputs":[

      ]
    },
    {
      "cell_type":"code",
      "source":"# Split the dataset using mlpack. The output comes back as a dictionary, which\n# we'll unpack for clarity of code.\noutput = mlpack.preprocess_split(input=dataset, input_labels=labels, test_ratio=0.3)",
      "metadata":{
        "trusted":true
      },
      "execution_count":15,
      "outputs":[

      ]
    },
    {
      "cell_type":"code",
      "source":"training_set = output['training']\ntraining_labels = output['training_labels']\ntest_set = output['test']\ntest_labels = output['test_labels']",
      "metadata":{
        "trusted":true
      },
      "execution_count":16,
      "outputs":[

      ]
    },
    {
      "cell_type":"code",
      "source":"# Train a random forest.\noutput = mlpack.random_forest(training=training_set, labels=training_labels,\n    print_training_accuracy=True, num_trees=10, minimum_leaf_size=3)",
      "metadata":{
        "trusted":true
      },
      "execution_count":17,
      "outputs":[

      ]
    },
    {
      "cell_type":"code",
      "source":"random_forest = output['output_model']",
      "metadata":{
        "trusted":true
      },
      "execution_count":18,
      "outputs":[

      ]
    },
    {
      "cell_type":"code",
      "source":"# Predict the labels of the test points.\noutput = mlpack.random_forest(input_model=random_forest, test=test_set)",
      "metadata":{
        "trusted":true
      },
      "execution_count":19,
      "outputs":[

      ]
    },
    {
      "cell_type":"code",
      "source":"# Now print the accuracy. The 'probabilities' output could also be used to\n# generate an ROC curve.\ncorrect = np.sum(output['predictions'] == test_labels.flatten())\nprint(str(correct) + ' correct out of ' + str(len(test_labels)) +\n      ' (' + str(100 * float(correct) / float(len(test_labels))) + '%).')",
      "metadata":{
        "trusted":true
      },
      "execution_count":20,
      "outputs":[
        {
          "name":"stdout",
          "text":"24513 correct out of 30000 (81.71%).\n",
          "output_type":"stream"
        }
      ]
    }
  ]
}
